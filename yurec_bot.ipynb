{
 "cells": [
  {
   "cell_type": "code",
   "execution_count": 1,
   "metadata": {
    "collapsed": true
   },
   "outputs": [],
   "source": [
    "import config\n",
    "import telebot\n",
    "import sys\n",
    "import os\n",
    "import time\n",
    "import SQLighter\n",
    "#from SQLighter import SQLighter\n",
    "import random\n",
    "import pandas as pd\n",
    "\n",
    "import utils\n",
    "import shelve\n",
    "import numpy as np\n",
    "\n",
    "from config import shelve_name, shelve_name_field"
   ]
  },
  {
   "cell_type": "code",
   "execution_count": 2,
   "metadata": {
    "collapsed": true
   },
   "outputs": [],
   "source": [
    "bot = telebot.TeleBot(config.token)"
   ]
  },
  {
   "cell_type": "code",
   "execution_count": 3,
   "metadata": {
    "collapsed": true
   },
   "outputs": [],
   "source": [
    "db_worker = SQLighter.SQLighter(config.database_name)"
   ]
  },
  {
   "cell_type": "code",
   "execution_count": 4,
   "metadata": {
    "collapsed": true
   },
   "outputs": [],
   "source": [
    "@bot.message_handler(content_types=['audio'])\n",
    "def save_audio(message):\n",
    "    r={\n",
    "        'autor':'',\n",
    "        'performer':str(message.audio.performer),\n",
    "        'song':'',\n",
    "        'style':'',\n",
    "        'album':'',\n",
    "        'year':'',\n",
    "        'text':'',\n",
    "        'music':str(message.audio.title),\n",
    "        'id_telegram':str(message.audio.file_id),\n",
    "        'playlist':'',\n",
    "        'tags':'',\n",
    "        'user':message.from_user.id\n",
    "    }\n",
    "    # в хранилище проставляем признак того, что пользователь загружает музыку\n",
    "    utils.set_user_load(message.chat.id,message.from_user.id,r)\n",
    "    # формиуем разметку\n",
    "    markup = utils.generate_markup()\n",
    "    # Отправляем предложение загрузить инфу о музыке\n",
    "    bot.send_message(message.chat.id, 'расскажи мне поподробнее об этой записи. Можешь указать что-то из предложенного?',\n",
    "                     reply_markup=markup, \n",
    "                     reply_to_message_id=message.message_id)"
   ]
  },
  {
   "cell_type": "code",
   "execution_count": 5,
   "metadata": {
    "collapsed": true
   },
   "outputs": [],
   "source": [
    "dict_field = {'плейлист':'playlist','исполнитель':'performer','название':'music',\n",
    "                      'теги':'tags'}"
   ]
  },
  {
   "cell_type": "code",
   "execution_count": 6,
   "metadata": {
    "collapsed": true
   },
   "outputs": [],
   "source": [
    "@bot.message_handler(func=lambda message: utils.game_chek(message) and not utils.check_field(message), content_types=['text'])\n",
    "def check_answer(message):\n",
    "    answer = message.text\n",
    "    #print('быть не должно!')\n",
    "    if answer in ['плейлист','исполнитель','название','теги']:\n",
    "        bot.send_message(message.chat.id, 'и это ...',\n",
    "                     reply_markup=None, \n",
    "                     reply_to_message_id=message.message_id)\n",
    "        with shelve.open(shelve_name) as storage:\n",
    "            temp_r = storage[str(message.chat.id)+str(message.from_user.id)][1]\n",
    "            temp_r[dict_field[answer]] = True\n",
    "            storage[str(message.chat.id)+str(message.from_user.id)] = [storage[str(message.chat.id)+str(message.from_user.id)][0],temp_r]\n",
    "        with shelve.open(shelve_name_field) as storage:\n",
    "            storage[str(message.chat.id)+str(message.from_user.id)] = answer\n",
    "    else:\n",
    "        with shelve.open(shelve_name) as storage:\n",
    "            utils.insert(config.database_name, storage[str(message.chat.id)+str(message.from_user.id)][1])\n",
    "        utils.finish_user_game(message.chat.id,message.from_user.id)"
   ]
  },
  {
   "cell_type": "code",
   "execution_count": 7,
   "metadata": {
    "collapsed": true
   },
   "outputs": [],
   "source": [
    "@bot.message_handler(func=lambda message: utils.game_chek(message) and utils.check_field(message), content_types=['text'])\n",
    "def add_data(message):\n",
    "    with shelve.open(shelve_name_field) as storage:\n",
    "        field = storage[str(message.chat.id)+str(message.from_user.id)]\n",
    "    with shelve.open(shelve_name) as storage:\n",
    "        temp_r = storage[str(message.chat.id)+str(message.from_user.id)][1]\n",
    "        temp_r[dict_field[field]] = message.text\n",
    "        storage[str(message.chat.id)+str(message.from_user.id)] = [storage[str(message.chat.id)+str(message.from_user.id)][0],temp_r]"
   ]
  },
  {
   "cell_type": "code",
   "execution_count": 8,
   "metadata": {
    "scrolled": true
   },
   "outputs": [
    {
     "name": "stdout",
     "output_type": "stream",
     "text": [
      "0\n"
     ]
    }
   ],
   "source": [
    "with shelve.open(shelve_name) as storage:\n",
    "    print (len(storage))"
   ]
  },
  {
   "cell_type": "code",
   "execution_count": 9,
   "metadata": {},
   "outputs": [
    {
     "name": "stdout",
     "output_type": "stream",
     "text": [
      "0\n"
     ]
    }
   ],
   "source": [
    "with shelve.open(shelve_name_field) as storage:\n",
    "    print (len(storage))"
   ]
  },
  {
   "cell_type": "code",
   "execution_count": 10,
   "metadata": {},
   "outputs": [
    {
     "data": {
      "text/plain": [
       "16"
      ]
     },
     "execution_count": 10,
     "metadata": {},
     "output_type": "execute_result"
    }
   ],
   "source": [
    "db_worker.count_rows()"
   ]
  },
  {
   "cell_type": "code",
   "execution_count": 11,
   "metadata": {
    "collapsed": true
   },
   "outputs": [],
   "source": [
    "@bot.message_handler(commands=['next'])\n",
    "def next_track(message):\n",
    "    d = SQLighter.SQLighter(config.database_name)\n",
    "    bot.send_audio(message.chat.id, d.random_from_playlist('new_year')[0][8])\n",
    "    d.close()"
   ]
  },
  {
   "cell_type": "code",
   "execution_count": 12,
   "metadata": {
    "collapsed": true
   },
   "outputs": [],
   "source": [
    "@bot.message_handler(commands=['start'])\n",
    "def start(message):\n",
    "    bot.send_message(message.chat.id, 'Просто шли /next, что бы послушать следующую новогоднюю песню!')"
   ]
  },
  {
   "cell_type": "code",
   "execution_count": null,
   "metadata": {
    "collapsed": true,
    "scrolled": true
   },
   "outputs": [],
   "source": [
    "if __name__ == '__main__':\n",
    "    bot.polling(none_stop=True)"
   ]
  },
  {
   "cell_type": "code",
   "execution_count": null,
   "metadata": {
    "collapsed": true
   },
   "outputs": [],
   "source": []
  }
 ],
 "metadata": {
  "kernelspec": {
   "display_name": "Python 3",
   "language": "python",
   "name": "python3"
  },
  "language_info": {
   "codemirror_mode": {
    "name": "ipython",
    "version": 3
   },
   "file_extension": ".py",
   "mimetype": "text/x-python",
   "name": "python",
   "nbconvert_exporter": "python",
   "pygments_lexer": "ipython3",
   "version": "3.6.3"
  }
 },
 "nbformat": 4,
 "nbformat_minor": 2
}
